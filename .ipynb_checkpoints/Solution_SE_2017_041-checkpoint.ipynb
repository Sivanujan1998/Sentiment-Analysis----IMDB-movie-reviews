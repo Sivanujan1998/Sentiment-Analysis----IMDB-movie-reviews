{
 "cells": [
  {
   "cell_type": "markdown",
   "metadata": {
    "id": "S30Y8Bxc1AeS"
   },
   "source": [
    "### Sentiment Analysis – Take home Assignment\n",
    "#### Date : 17/05/2023\n",
    "#### Index No: SE/2017/041"
   ]
  },
  {
   "cell_type": "code",
   "execution_count": null,
   "metadata": {
    "id": "VZq7sDj-0-AA"
   },
   "outputs": [],
   "source": []
  }
 ],
 "metadata": {
  "colab": {
   "authorship_tag": "ABX9TyOup9owANI6N6NDuMXyY/hE",
   "provenance": []
  },
  "kernelspec": {
   "display_name": "Python 3 (ipykernel)",
   "language": "python",
   "name": "python3"
  },
  "language_info": {
   "codemirror_mode": {
    "name": "ipython",
    "version": 3
   },
   "file_extension": ".py",
   "mimetype": "text/x-python",
   "name": "python",
   "nbconvert_exporter": "python",
   "pygments_lexer": "ipython3",
   "version": "3.9.13"
  }
 },
 "nbformat": 4,
 "nbformat_minor": 1
}
