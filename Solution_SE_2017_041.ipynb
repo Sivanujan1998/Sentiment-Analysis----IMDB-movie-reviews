{
 "cells": [
  {
   "cell_type": "markdown",
   "metadata": {
    "id": "S30Y8Bxc1AeS"
   },
   "source": [
    "### Sentiment Analysis – Take home Assignment\n",
    "#### Date : 17/05/2023\n",
    "#### Index No: SE/2017/041"
   ]
  },
  {
   "cell_type": "code",
   "execution_count": 155,
   "metadata": {
    "id": "VZq7sDj-0-AA"
   },
   "outputs": [],
   "source": [
    "import pandas as pd\n",
    "import nltk\n",
    "import re #regex\n",
    "\n",
    "#Splitting the data into trainig and testing\n",
    "from sklearn.model_selection import train_test_split\n",
    "\n",
    "#model\n",
    "from sklearn.naive_bayes import MultinomialNB\n",
    "\n",
    "#evaluation metrics\n",
    "from sklearn import metrics\n",
    "\n",
    "#stemming\n",
    "from nltk.stem import PorterStemmer\n",
    "\n",
    "#Lemmatizer\n",
    "from nltk.stem import WordNetLemmatizer\n",
    "\n",
    "#stopwords\n",
    "from nltk.corpus import stopwords\n",
    "\n",
    "# pandas and numpy\n",
    "import pandas as pd\n",
    "import numpy as np\n",
    "\n",
    "\n",
    "#import count vectorizer\n",
    "from sklearn.feature_extraction.text import CountVectorizer\n",
    "\n",
    "#import TfidfVectorizer\n",
    "from sklearn.feature_extraction.text import TfidfVectorizer\n",
    "\n",
    "#tokernizers\n",
    "from nltk.tokenize import word_tokenize\n",
    "from nltk.tokenize import RegexpTokenizer\n",
    "\n",
    "#classification results\n",
    "from sklearn.metrics import confusion_matrix,accuracy_score, precision_score, recall_score, f1_score, classification_report\n",
    "\n",
    "#import logistic regression \n",
    "from sklearn.linear_model import LogisticRegression\n",
    "\n",
    "#visualizations\n",
    "import seaborn as sns\n",
    "import matplotlib.pyplot as plt"
   ]
  },
  {
   "cell_type": "markdown",
   "metadata": {},
   "source": [
    "## (a) Use the IMDB movie reviews dataset provided. Read the csv data file to a Pandas dataframe and take a sample of 10,000 reviews as your main dataset used for Sentiment Analysis. Use stratified  sampling to ensure that the classes are balanced. Clean the data in appropriate ways. Print the number of reviews which are positive and the number that are negative in order to gauge the dimensions of the dataset"
   ]
  },
  {
   "cell_type": "code",
   "execution_count": 156,
   "metadata": {},
   "outputs": [],
   "source": [
    "#Loading the Dataset\n",
    "review_data = pd.read_csv('IMDB Dataset.csv')"
   ]
  },
  {
   "cell_type": "code",
   "execution_count": 157,
   "metadata": {},
   "outputs": [],
   "source": [
    "#Perform stratified sampling\n",
    "X = review_data['review']\n",
    "y = review_data['sentiment']\n",
    "X_sampled, _, y_sampled, _ = train_test_split(X, y, train_size=10000, stratify=y, random_state=42)\n",
    "\n",
    "data = pd.DataFrame({'review': X_sampled, 'sentiment': y_sampled})\n",
    "\n"
   ]
  },
  {
   "cell_type": "code",
   "execution_count": 158,
   "metadata": {},
   "outputs": [
    {
     "data": {
      "text/html": [
       "<div>\n",
       "<style scoped>\n",
       "    .dataframe tbody tr th:only-of-type {\n",
       "        vertical-align: middle;\n",
       "    }\n",
       "\n",
       "    .dataframe tbody tr th {\n",
       "        vertical-align: top;\n",
       "    }\n",
       "\n",
       "    .dataframe thead th {\n",
       "        text-align: right;\n",
       "    }\n",
       "</style>\n",
       "<table border=\"1\" class=\"dataframe\">\n",
       "  <thead>\n",
       "    <tr style=\"text-align: right;\">\n",
       "      <th></th>\n",
       "      <th>review</th>\n",
       "      <th>sentiment</th>\n",
       "    </tr>\n",
       "  </thead>\n",
       "  <tbody>\n",
       "    <tr>\n",
       "      <th>16818</th>\n",
       "      <td>This was obviously the worst movie ever made.....</td>\n",
       "      <td>negative</td>\n",
       "    </tr>\n",
       "    <tr>\n",
       "      <th>45363</th>\n",
       "      <td>Fame did something odd. It was not only a musi...</td>\n",
       "      <td>negative</td>\n",
       "    </tr>\n",
       "    <tr>\n",
       "      <th>8101</th>\n",
       "      <td>From all the rave reviews, we couldn't wait to...</td>\n",
       "      <td>negative</td>\n",
       "    </tr>\n",
       "    <tr>\n",
       "      <th>23754</th>\n",
       "      <td>First, let me confess that I have not read thi...</td>\n",
       "      <td>positive</td>\n",
       "    </tr>\n",
       "    <tr>\n",
       "      <th>3216</th>\n",
       "      <td>Mickey Rourke is enjoying a renaissance at the...</td>\n",
       "      <td>negative</td>\n",
       "    </tr>\n",
       "  </tbody>\n",
       "</table>\n",
       "</div>"
      ],
      "text/plain": [
       "                                                  review sentiment\n",
       "16818  This was obviously the worst movie ever made.....  negative\n",
       "45363  Fame did something odd. It was not only a musi...  negative\n",
       "8101   From all the rave reviews, we couldn't wait to...  negative\n",
       "23754  First, let me confess that I have not read thi...  positive\n",
       "3216   Mickey Rourke is enjoying a renaissance at the...  negative"
      ]
     },
     "execution_count": 158,
     "metadata": {},
     "output_type": "execute_result"
    }
   ],
   "source": [
    "data.head()"
   ]
  },
  {
   "cell_type": "code",
   "execution_count": 159,
   "metadata": {},
   "outputs": [
    {
     "data": {
      "text/plain": [
       "(10000, 2)"
      ]
     },
     "execution_count": 159,
     "metadata": {},
     "output_type": "execute_result"
    }
   ],
   "source": [
    "#row and coloumn count\n",
    "data.shape"
   ]
  },
  {
   "cell_type": "code",
   "execution_count": 160,
   "metadata": {},
   "outputs": [],
   "source": [
    "#Clean the data\n",
    "def clean_text(text):\n",
    "    \n",
    "    # Remove HTML tags\n",
    "    text = re.sub(r'<br />', ' ', text)  \n",
    "    \n",
    "    # Remove non-alphabetic characters\n",
    "    text = re.sub(r'[^a-zA-Z]', ' ', text)  \n",
    "    \n",
    "    # Convert text to lowercase\n",
    "    text = text.lower()\n",
    "\n",
    "    return text"
   ]
  },
  {
   "cell_type": "code",
   "execution_count": 161,
   "metadata": {},
   "outputs": [
    {
     "data": {
      "text/html": [
       "<div>\n",
       "<style scoped>\n",
       "    .dataframe tbody tr th:only-of-type {\n",
       "        vertical-align: middle;\n",
       "    }\n",
       "\n",
       "    .dataframe tbody tr th {\n",
       "        vertical-align: top;\n",
       "    }\n",
       "\n",
       "    .dataframe thead th {\n",
       "        text-align: right;\n",
       "    }\n",
       "</style>\n",
       "<table border=\"1\" class=\"dataframe\">\n",
       "  <thead>\n",
       "    <tr style=\"text-align: right;\">\n",
       "      <th></th>\n",
       "      <th>review</th>\n",
       "      <th>sentiment</th>\n",
       "    </tr>\n",
       "  </thead>\n",
       "  <tbody>\n",
       "    <tr>\n",
       "      <th>16818</th>\n",
       "      <td>this was obviously the worst movie ever made  ...</td>\n",
       "      <td>negative</td>\n",
       "    </tr>\n",
       "    <tr>\n",
       "      <th>45363</th>\n",
       "      <td>fame did something odd  it was not only a musi...</td>\n",
       "      <td>negative</td>\n",
       "    </tr>\n",
       "    <tr>\n",
       "      <th>8101</th>\n",
       "      <td>from all the rave reviews  we couldn t wait to...</td>\n",
       "      <td>negative</td>\n",
       "    </tr>\n",
       "    <tr>\n",
       "      <th>23754</th>\n",
       "      <td>first  let me confess that i have not read thi...</td>\n",
       "      <td>positive</td>\n",
       "    </tr>\n",
       "    <tr>\n",
       "      <th>3216</th>\n",
       "      <td>mickey rourke is enjoying a renaissance at the...</td>\n",
       "      <td>negative</td>\n",
       "    </tr>\n",
       "  </tbody>\n",
       "</table>\n",
       "</div>"
      ],
      "text/plain": [
       "                                                  review sentiment\n",
       "16818  this was obviously the worst movie ever made  ...  negative\n",
       "45363  fame did something odd  it was not only a musi...  negative\n",
       "8101   from all the rave reviews  we couldn t wait to...  negative\n",
       "23754  first  let me confess that i have not read thi...  positive\n",
       "3216   mickey rourke is enjoying a renaissance at the...  negative"
      ]
     },
     "execution_count": 161,
     "metadata": {},
     "output_type": "execute_result"
    }
   ],
   "source": [
    "data['review'] = data['review'].apply(clean_text)\n",
    "data.head()"
   ]
  },
  {
   "cell_type": "code",
   "execution_count": 162,
   "metadata": {},
   "outputs": [
    {
     "data": {
      "text/plain": [
       "negative    5000\n",
       "positive    5000\n",
       "Name: sentiment, dtype: int64"
      ]
     },
     "execution_count": 162,
     "metadata": {},
     "output_type": "execute_result"
    }
   ],
   "source": [
    "# count of the negative and positive sentiments\n",
    "data['sentiment'].value_counts()"
   ]
  },
  {
   "cell_type": "markdown",
   "metadata": {},
   "source": [
    "## (b) Create bag-of-words and TF-IDF representations of the reviews in the main-dataset above and use two relevant supervised learning algorithms to classify future reviews according to their sentiment. Print the confusion matrices of the four (04) resulting combinations for a held-out (test) dataset. (Split the data into training and testing sets, using 80% of the data for training and the rest for testing.)"
   ]
  },
  {
   "cell_type": "code",
   "execution_count": 163,
   "metadata": {},
   "outputs": [],
   "source": [
    "# Create bag-of-words and TF-IDF representations\n",
    "vectorizer_bow = CountVectorizer()\n",
    "vectorizer_tfidf = TfidfVectorizer()\n",
    "\n",
    "X_bow = vectorizer_bow.fit_transform(data['review'])\n",
    "X_tfidf = vectorizer_tfidf.fit_transform(data['review'])\n",
    "y = data['sentiment']"
   ]
  },
  {
   "cell_type": "code",
   "execution_count": 164,
   "metadata": {},
   "outputs": [
    {
     "name": "stdout",
     "output_type": "stream",
     "text": [
      "Training Set Class Distribution:\n",
      "negative    4000\n",
      "positive    4000\n",
      "Name: sentiment, dtype: int64\n",
      "\n",
      "Testing Set Class Distribution:\n",
      "positive    1000\n",
      "negative    1000\n",
      "Name: sentiment, dtype: int64\n"
     ]
    }
   ],
   "source": [
    "# Split the data into training and testing sets\n",
    "X_train_bow, X_test_bow, y_train, y_test = train_test_split(X_bow, y, test_size=0.2, random_state=42)\n",
    "X_train_tfidf, X_test_tfidf, _, _ = train_test_split(X_tfidf, y, test_size=0.2, random_state=42)\n",
    "\n",
    "# Print the class distribution in the training set\n",
    "print(\"Training Set Class Distribution:\")\n",
    "print(y_train.value_counts())\n",
    "\n",
    "# Print the class distribution in the testing set\n",
    "print(\"\\nTesting Set Class Distribution:\")\n",
    "print(y_test.value_counts())"
   ]
  },
  {
   "cell_type": "code",
   "execution_count": 165,
   "metadata": {},
   "outputs": [
    {
     "name": "stderr",
     "output_type": "stream",
     "text": [
      "C:\\Users\\S.Sivanujan\\anaconda3\\lib\\site-packages\\sklearn\\linear_model\\_logistic.py:814: ConvergenceWarning: lbfgs failed to converge (status=1):\n",
      "STOP: TOTAL NO. of ITERATIONS REACHED LIMIT.\n",
      "\n",
      "Increase the number of iterations (max_iter) or scale the data as shown in:\n",
      "    https://scikit-learn.org/stable/modules/preprocessing.html\n",
      "Please also refer to the documentation for alternative solver options:\n",
      "    https://scikit-learn.org/stable/modules/linear_model.html#logistic-regression\n",
      "  n_iter_i = _check_optimize_result(\n"
     ]
    },
    {
     "data": {
      "text/plain": [
       "LogisticRegression()"
      ]
     },
     "execution_count": 165,
     "metadata": {},
     "output_type": "execute_result"
    }
   ],
   "source": [
    "# Train and evaluate classifiers\n",
    "nb_bow = MultinomialNB()\n",
    "nb_tfidf = MultinomialNB()\n",
    "lr_bow = LogisticRegression()\n",
    "lr_tfidf = LogisticRegression()\n",
    "\n",
    "nb_bow.fit(X_train_bow, y_train)\n",
    "nb_tfidf.fit(X_train_tfidf, y_train)\n",
    "lr_bow.fit(X_train_bow, y_train)\n",
    "lr_tfidf.fit(X_train_tfidf, y_train)"
   ]
  },
  {
   "cell_type": "code",
   "execution_count": 166,
   "metadata": {},
   "outputs": [
    {
     "name": "stdout",
     "output_type": "stream",
     "text": [
      "Confusion Matrix - Naive Bayes with Bag-of-Words:\n",
      "[[871 129]\n",
      " [196 804]]\n"
     ]
    },
    {
     "data": {
      "image/png": "[encoded data removed]",
      "text/plain": [
       "<Figure size 640x480 with 2 Axes>"
      ]
     },
     "metadata": {},
     "output_type": "display_data"
    },
    {
     "name": "stdout",
     "output_type": "stream",
     "text": [
      "\n",
      "Confusion Matrix - Naive Bayes with TF-IDF:\n",
      "[[906  94]\n",
      " [214 786]]\n"
     ]
    },
    {
     "data": {
      "image/png": "[encoded data removed]",
      "text/plain": [
       "<Figure size 640x480 with 2 Axes>"
      ]
     },
     "metadata": {},
     "output_type": "display_data"
    },
    {
     "name": "stdout",
     "output_type": "stream",
     "text": [
      "\n",
      "Confusion Matrix - Logistic Regression with Bag-of-Words:\n",
      "[[841 159]\n",
      " [123 877]]\n"
     ]
    },
    {
     "data": {
      "image/png": "[encoded data removed]",
      "text/plain": [
       "<Figure size 640x480 with 2 Axes>"
      ]
     },
     "metadata": {},
     "output_type": "display_data"
    },
    {
     "name": "stdout",
     "output_type": "stream",
     "text": [
      "\n",
      "Confusion Matrix - Logistic Regression with TF-IDF:\n",
      "[[847 153]\n",
      " [104 896]]\n"
     ]
    },
    {
     "data": {
      "image/png": "[encoded data removed]",
      "text/plain": [
       "<Figure size 640x480 with 2 Axes>"
      ]
     },
     "metadata": {},
     "output_type": "display_data"
    }
   ],
   "source": [
    "# Print the confusion matrices for the four resulting combinations\n",
    "y_pred_nb_bow = nb_bow.predict(X_test_bow)\n",
    "y_pred_nb_tfidf = nb_tfidf.predict(X_test_tfidf)\n",
    "y_pred_lr_bow = lr_bow.predict(X_test_bow)\n",
    "y_pred_lr_tfidf = lr_tfidf.predict(X_test_tfidf)\n",
    "\n",
    "confusion_nb_bow = confusion_matrix(y_test, y_pred_nb_bow)\n",
    "confusion_nb_tfidf = confusion_matrix(y_test, y_pred_nb_tfidf)\n",
    "confusion_lr_bow = confusion_matrix(y_test, y_pred_lr_bow)\n",
    "confusion_lr_tfidf = confusion_matrix(y_test, y_pred_lr_tfidf)\n",
    "\n",
    "print(\"Confusion Matrix - Naive Bayes with Bag-of-Words:\")\n",
    "print(confusion_nb_bow)\n",
    "\n",
    "#confusion matrix visualization\n",
    "sns.heatmap(confusion_nb_bow,annot=True,fmt=\"g\")\n",
    "plt.xlabel(\"Predicted\")\n",
    "plt.ylabel(\"Actual\")\n",
    "plt.show()\n",
    "\n",
    "print(\"\\nConfusion Matrix - Naive Bayes with TF-IDF:\")\n",
    "print(confusion_nb_tfidf)\n",
    "\n",
    "#confusion matrix visualization\n",
    "sns.heatmap(confusion_nb_tfidf,annot=True,fmt=\"g\")\n",
    "plt.xlabel(\"Predicted\")\n",
    "plt.ylabel(\"Actual\")\n",
    "plt.show()\n",
    "\n",
    "\n",
    "print(\"\\nConfusion Matrix - Logistic Regression with Bag-of-Words:\")\n",
    "print(confusion_lr_bow)\n",
    "\n",
    "#confusion matrix visualization\n",
    "sns.heatmap(confusion_lr_bow,annot=True,fmt=\"g\")\n",
    "plt.xlabel(\"Predicted\")\n",
    "plt.ylabel(\"Actual\")\n",
    "plt.show()\n",
    "\n",
    "print(\"\\nConfusion Matrix - Logistic Regression with TF-IDF:\")\n",
    "print(confusion_lr_tfidf)\n",
    "\n",
    "#confusion matrix visualization\n",
    "sns.heatmap(confusion_lr_tfidf,annot=True,fmt=\"g\")\n",
    "plt.xlabel(\"Predicted\")\n",
    "plt.ylabel(\"Actual\")\n",
    "plt.show()\n"
   ]
  },
  {
   "cell_type": "code",
   "execution_count": 167,
   "metadata": {},
   "outputs": [
    {
     "name": "stdout",
     "output_type": "stream",
     "text": [
      "\n",
      "Classification Report - Naive Bayes with Bag-of-Words:\n",
      "              precision    recall  f1-score   support\n",
      "\n",
      "    negative       0.82      0.87      0.84      1000\n",
      "    positive       0.86      0.80      0.83      1000\n",
      "\n",
      "    accuracy                           0.84      2000\n",
      "   macro avg       0.84      0.84      0.84      2000\n",
      "weighted avg       0.84      0.84      0.84      2000\n",
      "\n",
      "Performance Metrics - Naive Bayes with Bag-of-Words:\n",
      "Accuracy: 0.8375\n",
      "Precision: 0.8390218691707073\n",
      "Recall: 0.8375\n",
      "F1 Score: 0.8373174294852399\n",
      "\n",
      "Classification Report - Naive Bayes with TF-IDF:\n",
      "              precision    recall  f1-score   support\n",
      "\n",
      "    negative       0.81      0.91      0.85      1000\n",
      "    positive       0.89      0.79      0.84      1000\n",
      "\n",
      "    accuracy                           0.85      2000\n",
      "   macro avg       0.85      0.85      0.85      2000\n",
      "weighted avg       0.85      0.85      0.85      2000\n",
      "\n",
      "Performance Metrics - Naive Bayes with TF-IDF:\n",
      "Accuracy: 0.846\n",
      "Precision: 0.8510551948051948\n",
      "Recall: 0.846\n",
      "F1 Score: 0.8454435969490164\n",
      "\n",
      "Classification Report - Logistic Regression with Bag-of-Words:\n",
      "              precision    recall  f1-score   support\n",
      "\n",
      "    negative       0.87      0.84      0.86      1000\n",
      "    positive       0.85      0.88      0.86      1000\n",
      "\n",
      "    accuracy                           0.86      2000\n",
      "   macro avg       0.86      0.86      0.86      2000\n",
      "weighted avg       0.86      0.86      0.86      2000\n",
      "\n",
      "Performance Metrics - Logistic Regression with Bag-of-Words:\n",
      "Accuracy: 0.859\n",
      "Precision: 0.859465867764623\n",
      "Recall: 0.859\n",
      "F1 Score: 0.8589543011935867\n",
      "\n",
      "Classification Report - Logistic Regression with TF-IDF:\n",
      "              precision    recall  f1-score   support\n",
      "\n",
      "    negative       0.89      0.85      0.87      1000\n",
      "    positive       0.85      0.90      0.87      1000\n",
      "\n",
      "    accuracy                           0.87      2000\n",
      "   macro avg       0.87      0.87      0.87      2000\n",
      "weighted avg       0.87      0.87      0.87      2000\n",
      "\n",
      "Performance Metrics - Logistic Regression with TF-IDF:\n",
      "Accuracy: 0.8715\n",
      "Precision: 0.8723941182779855\n",
      "Recall: 0.8715\n",
      "F1 Score: 0.8714228215486346\n"
     ]
    }
   ],
   "source": [
    "\n",
    "#Classification Report\n",
    "print(\"\\nClassification Report - Naive Bayes with Bag-of-Words:\")\n",
    "print(classification_report(y_test, y_pred_nb_bow))\n",
    "\n",
    "print(\"Performance Metrics - Naive Bayes with Bag-of-Words:\")\n",
    "print(\"Accuracy:\", accuracy_score(y_test, y_pred_nb_bow))\n",
    "print(\"Precision:\", precision_score(y_test, y_pred_nb_bow, average='weighted'))\n",
    "print(\"Recall:\", recall_score(y_test, y_pred_nb_bow, average='weighted'))\n",
    "print(\"F1 Score:\", f1_score(y_test, y_pred_nb_bow, average='weighted'))\n",
    "\n",
    "print(\"\\nClassification Report - Naive Bayes with TF-IDF:\")\n",
    "print(classification_report(y_test, y_pred_nb_tfidf))\n",
    "\n",
    "print(\"Performance Metrics - Naive Bayes with TF-IDF:\")\n",
    "print(\"Accuracy:\", accuracy_score(y_test, y_pred_nb_tfidf))\n",
    "print(\"Precision:\", precision_score(y_test, y_pred_nb_tfidf, average='weighted'))\n",
    "print(\"Recall:\", recall_score(y_test, y_pred_nb_tfidf, average='weighted'))\n",
    "print(\"F1 Score:\", f1_score(y_test, y_pred_nb_tfidf, average='weighted'))\n",
    "\n",
    "print(\"\\nClassification Report - Logistic Regression with Bag-of-Words:\")\n",
    "print(classification_report(y_test, y_pred_lr_bow))\n",
    "\n",
    "print(\"Performance Metrics - Logistic Regression with Bag-of-Words:\")\n",
    "print(\"Accuracy:\", accuracy_score(y_test, y_pred_lr_bow))\n",
    "print(\"Precision:\", precision_score(y_test, y_pred_lr_bow, average='weighted'))\n",
    "print(\"Recall:\", recall_score(y_test, y_pred_lr_bow, average='weighted'))\n",
    "print(\"F1 Score:\", f1_score(y_test, y_pred_lr_bow, average='weighted'))\n",
    "\n",
    "print(\"\\nClassification Report - Logistic Regression with TF-IDF:\")\n",
    "print(classification_report(y_test, y_pred_lr_tfidf))\n",
    "\n",
    "print(\"Performance Metrics - Logistic Regression with TF-IDF:\")\n",
    "print(\"Accuracy:\", accuracy_score(y_test, y_pred_lr_tfidf))\n",
    "print(\"Precision:\", precision_score(y_test, y_pred_lr_tfidf, average='weighted'))\n",
    "print(\"Recall:\", recall_score(y_test, y_pred_lr_tfidf, average='weighted'))\n",
    "print(\"F1 Score:\", f1_score(y_test, y_pred_lr_tfidf, average='weighted'))"
   ]
  },
  {
   "cell_type": "markdown",
   "metadata": {},
   "source": [
    "## (c) Suggest any strategies you may use to improve the performance of the above classifier (apart from using deep learning). Implement your suggestions as improvements to the above models and print the confusion matrix of the best representation and model you get."
   ]
  },
  {
   "cell_type": "raw",
   "metadata": {},
   "source": [
    "Strategy 1. N-grams, Instead of considering only individual words, you can also include n-grams (sequences of consecutive words) as features. This can capture more contextual information and improve the model's understanding of the text."
   ]
  },
  {
   "cell_type": "code",
   "execution_count": 168,
   "metadata": {},
   "outputs": [
    {
     "name": "stderr",
     "output_type": "stream",
     "text": [
      "C:\\Users\\S.Sivanujan\\anaconda3\\lib\\site-packages\\sklearn\\linear_model\\_logistic.py:814: ConvergenceWarning: lbfgs failed to converge (status=1):\n",
      "STOP: TOTAL NO. of ITERATIONS REACHED LIMIT.\n",
      "\n",
      "Increase the number of iterations (max_iter) or scale the data as shown in:\n",
      "    https://scikit-learn.org/stable/modules/preprocessing.html\n",
      "Please also refer to the documentation for alternative solver options:\n",
      "    https://scikit-learn.org/stable/modules/linear_model.html#logistic-regression\n",
      "  n_iter_i = _check_optimize_result(\n"
     ]
    },
    {
     "name": "stdout",
     "output_type": "stream",
     "text": [
      "Confusion Matrix - Naive Bayes with BoW:\n",
      "[[866 134]\n",
      " [193 807]]\n",
      "Confusion Matrix - Naive Bayes with TF-IDF:\n",
      "[[893 107]\n",
      " [187 813]]\n",
      "Confusion Matrix - Logistic Regression with BoW:\n",
      "[[841 159]\n",
      " [123 877]]\n",
      "Confusion Matrix - Logistic Regression with TF-IDF:\n",
      "[[847 153]\n",
      " [104 896]]\n"
     ]
    }
   ],
   "source": [
    "#Create advanced representations (e.g., including n-grams)\n",
    "vectorizer_bow = CountVectorizer(ngram_range=(1, 2))\n",
    "vectorizer_tfidf = TfidfVectorizer(ngram_range=(1, 2))\n",
    "\n",
    "X_bow = vectorizer_bow.fit_transform(data['review'])\n",
    "X_tfidf = vectorizer_tfidf.fit_transform(data['review'])\n",
    "\n",
    "#Train and evaluate classifiers with hyperparameter tuning\n",
    "nb_bow = MultinomialNB(alpha=0.5)  # Example of hyperparameter tuning\n",
    "nb_tfidf = MultinomialNB(alpha=0.5)\n",
    "lr_bow = LogisticRegression(C=1.0)\n",
    "lr_tfidf = LogisticRegression(C=1.0)\n",
    "\n",
    "nb_bow.fit(X_train_bow, y_train)\n",
    "nb_tfidf.fit(X_train_tfidf, y_train)\n",
    "lr_bow.fit(X_train_bow, y_train)\n",
    "lr_tfidf.fit(X_train_tfidf, y_train)\n",
    "\n",
    "#Print the confusion matrices for the improved models\n",
    "y_pred_nb_bow = nb_bow.predict(X_test_bow)\n",
    "y_pred_nb_tfidf = nb_tfidf.predict(X_test_tfidf)\n",
    "y_pred_lr_bow = lr_bow.predict(X_test_bow)\n",
    "y_pred_lr_tfidf = lr_tfidf.predict(X_test_tfidf)\n",
    "\n",
    "confusion_nb_bow = confusion_matrix(y_test, y_pred_nb_bow)\n",
    "confusion_nb_tfidf = confusion_matrix(y_test, y_pred_nb_tfidf)\n",
    "confusion_lr_bow = confusion_matrix(y_test, y_pred_lr_bow)\n",
    "confusion_lr_tfidf = confusion_matrix(y_test, y_pred_lr_tfidf)\n",
    "\n",
    "print(\"Confusion Matrix - Naive Bayes with BoW:\")\n",
    "print(confusion_nb_bow)\n",
    "\n",
    "print(\"Confusion Matrix - Naive Bayes with TF-IDF:\")\n",
    "print(confusion_nb_tfidf)\n",
    "\n",
    "print(\"Confusion Matrix - Logistic Regression with BoW:\")\n",
    "print(confusion_lr_bow)\n",
    "\n",
    "print(\"Confusion Matrix - Logistic Regression with TF-IDF:\")\n",
    "print(confusion_lr_tfidf)\n"
   ]
  },
  {
   "cell_type": "code",
   "execution_count": 169,
   "metadata": {},
   "outputs": [
    {
     "name": "stdout",
     "output_type": "stream",
     "text": [
      "\n",
      "Classification Report - Naive Bayes with Bag-of-Words:\n",
      "              precision    recall  f1-score   support\n",
      "\n",
      "    negative       0.82      0.87      0.84      1000\n",
      "    positive       0.86      0.81      0.83      1000\n",
      "\n",
      "    accuracy                           0.84      2000\n",
      "   macro avg       0.84      0.84      0.84      2000\n",
      "weighted avg       0.84      0.84      0.84      2000\n",
      "\n",
      "Performance Metrics - Naive Bayes with Bag-of-Words:\n",
      "Accuracy: 0.8365\n",
      "Precision: 0.8376754482353072\n",
      "Recall: 0.8365\n",
      "F1 Score: 0.8363575901928655\n",
      "\n",
      "Classification Report - Naive Bayes with TF-IDF:\n",
      "              precision    recall  f1-score   support\n",
      "\n",
      "    negative       0.83      0.89      0.86      1000\n",
      "    positive       0.88      0.81      0.85      1000\n",
      "\n",
      "    accuracy                           0.85      2000\n",
      "   macro avg       0.86      0.85      0.85      2000\n",
      "weighted avg       0.86      0.85      0.85      2000\n",
      "\n",
      "Performance Metrics - Naive Bayes with TF-IDF:\n",
      "Accuracy: 0.853\n",
      "Precision: 0.8552737520128824\n",
      "Recall: 0.853\n",
      "F1 Score: 0.852764423076923\n",
      "\n",
      "Classification Report - Logistic Regression with Bag-of-Words:\n",
      "              precision    recall  f1-score   support\n",
      "\n",
      "    negative       0.87      0.84      0.86      1000\n",
      "    positive       0.85      0.88      0.86      1000\n",
      "\n",
      "    accuracy                           0.86      2000\n",
      "   macro avg       0.86      0.86      0.86      2000\n",
      "weighted avg       0.86      0.86      0.86      2000\n",
      "\n",
      "Performance Metrics - Logistic Regression with Bag-of-Words:\n",
      "Accuracy: 0.859\n",
      "Precision: 0.859465867764623\n",
      "Recall: 0.859\n",
      "F1 Score: 0.8589543011935867\n",
      "\n",
      "Classification Report - Logistic Regression with TF-IDF:\n",
      "              precision    recall  f1-score   support\n",
      "\n",
      "    negative       0.89      0.85      0.87      1000\n",
      "    positive       0.85      0.90      0.87      1000\n",
      "\n",
      "    accuracy                           0.87      2000\n",
      "   macro avg       0.87      0.87      0.87      2000\n",
      "weighted avg       0.87      0.87      0.87      2000\n",
      "\n",
      "Performance Metrics - Logistic Regression with TF-IDF:\n",
      "Accuracy: 0.8715\n",
      "Precision: 0.8723941182779855\n",
      "Recall: 0.8715\n",
      "F1 Score: 0.8714228215486346\n"
     ]
    }
   ],
   "source": [
    "\n",
    "\n",
    "#Classification Report\n",
    "print(\"\\nClassification Report - Naive Bayes with Bag-of-Words:\")\n",
    "print(classification_report(y_test, y_pred_nb_bow))\n",
    "\n",
    "print(\"Performance Metrics - Naive Bayes with Bag-of-Words:\")\n",
    "print(\"Accuracy:\", accuracy_score(y_test, y_pred_nb_bow))\n",
    "print(\"Precision:\", precision_score(y_test, y_pred_nb_bow, average='weighted'))\n",
    "print(\"Recall:\", recall_score(y_test, y_pred_nb_bow, average='weighted'))\n",
    "print(\"F1 Score:\", f1_score(y_test, y_pred_nb_bow, average='weighted'))\n",
    "\n",
    "print(\"\\nClassification Report - Naive Bayes with TF-IDF:\")\n",
    "print(classification_report(y_test, y_pred_nb_tfidf))\n",
    "\n",
    "print(\"Performance Metrics - Naive Bayes with TF-IDF:\")\n",
    "print(\"Accuracy:\", accuracy_score(y_test, y_pred_nb_tfidf))\n",
    "print(\"Precision:\", precision_score(y_test, y_pred_nb_tfidf, average='weighted'))\n",
    "print(\"Recall:\", recall_score(y_test, y_pred_nb_tfidf, average='weighted'))\n",
    "print(\"F1 Score:\", f1_score(y_test, y_pred_nb_tfidf, average='weighted'))\n",
    "\n",
    "print(\"\\nClassification Report - Logistic Regression with Bag-of-Words:\")\n",
    "print(classification_report(y_test, y_pred_lr_bow))\n",
    "\n",
    "print(\"Performance Metrics - Logistic Regression with Bag-of-Words:\")\n",
    "print(\"Accuracy:\", accuracy_score(y_test, y_pred_lr_bow))\n",
    "print(\"Precision:\", precision_score(y_test, y_pred_lr_bow, average='weighted'))\n",
    "print(\"Recall:\", recall_score(y_test, y_pred_lr_bow, average='weighted'))\n",
    "print(\"F1 Score:\", f1_score(y_test, y_pred_lr_bow, average='weighted'))\n",
    "\n",
    "print(\"\\nClassification Report - Logistic Regression with TF-IDF:\")\n",
    "print(classification_report(y_test, y_pred_lr_tfidf))\n",
    "\n",
    "print(\"Performance Metrics - Logistic Regression with TF-IDF:\")\n",
    "print(\"Accuracy:\", accuracy_score(y_test, y_pred_lr_tfidf))\n",
    "print(\"Precision:\", precision_score(y_test, y_pred_lr_tfidf, average='weighted'))\n",
    "print(\"Recall:\", recall_score(y_test, y_pred_lr_tfidf, average='weighted'))\n",
    "print(\"F1 Score:\", f1_score(y_test, y_pred_lr_tfidf, average='weighted'))\n"
   ]
  },
  {
   "cell_type": "raw",
   "metadata": {},
   "source": [
    "Strategy 2. Advanced Text Preprocessing, Improve the text cleaning process by implementing techniques like lemmatization or stemming to reduce words to their base or root form. This can help in reducing feature space and capturing the core meaning of words"
   ]
  },
  {
   "cell_type": "code",
   "execution_count": 170,
   "metadata": {},
   "outputs": [
    {
     "name": "stderr",
     "output_type": "stream",
     "text": [
      "[nltk_data] Downloading package stopwords to\n",
      "[nltk_data]     C:\\Users\\S.Sivanujan\\AppData\\Roaming\\nltk_data...\n",
      "[nltk_data]   Package stopwords is already up-to-date!\n",
      "[nltk_data] Downloading package wordnet to\n",
      "[nltk_data]     C:\\Users\\S.Sivanujan\\AppData\\Roaming\\nltk_data...\n",
      "[nltk_data]   Package wordnet is already up-to-date!\n",
      "[nltk_data] Downloading package punkt to\n",
      "[nltk_data]     C:\\Users\\S.Sivanujan\\AppData\\Roaming\\nltk_data...\n",
      "[nltk_data]   Package punkt is already up-to-date!\n",
      "[nltk_data] Downloading package omw-1.4 to\n",
      "[nltk_data]     C:\\Users\\S.Sivanujan\\AppData\\Roaming\\nltk_data...\n",
      "[nltk_data]   Package omw-1.4 is already up-to-date!\n"
     ]
    }
   ],
   "source": [
    "nltk.download('stopwords')\n",
    "nltk.download('wordnet')\n",
    "nltk.download('punkt')\n",
    "nltk.download('omw-1.4')\n",
    "\n",
    "# Create an instance of the PorterStemmer\n",
    "stemmer = PorterStemmer()\n",
    "\n",
    "#Clean the data\n",
    "def advance_clean_text(text):\n",
    "    \n",
    "#     # Remove HTML tags\n",
    "#     text = re.sub(r'<br />', ' ', text)  \n",
    "    \n",
    "#     # Remove non-alphabetic characters\n",
    "#     text = re.sub(r'[^a-zA-Z]', ' ', text)  \n",
    "    \n",
    "#     # Convert text to lowercase\n",
    "#     text = text.lower()\n",
    "    \n",
    "        \n",
    "    # Remove special characters and punctuation\n",
    "    text = re.sub(r'[^\\w\\s]', '', text)\n",
    "    \n",
    "    # Tokenize the sentence\n",
    "    tokens = nltk.word_tokenize(text)\n",
    "    \n",
    "    # Remove stopwords\n",
    "    stop_words = set(stopwords.words('english'))\n",
    "    tokens = [token for token in tokens if token not in stop_words]\n",
    "    \n",
    "    # Lemmatize the words\n",
    "    lemmatizer = WordNetLemmatizer()\n",
    "    tokens = [lemmatizer.lemmatize(token) for token in tokens]\n",
    "    \n",
    "    # Join the cleaned tokens back into a sentence\n",
    "    text = ' '.join(tokens)\n",
    "    \n",
    "    # Tokenize the text into individual words\n",
    "    words = nltk.word_tokenize(text)\n",
    "    stemmed_words = []\n",
    "    \n",
    "    for word in words:\n",
    "        # Apply stemming to each word\n",
    "        stemmed_word = stemmer.stem(word)\n",
    "        stemmed_words.append(stemmed_word)\n",
    "    \n",
    "    # Join the stemmed words back into a single text\n",
    "    text = ' '.join(stemmed_words)\n",
    "\n",
    "    return text"
   ]
  },
  {
   "cell_type": "code",
   "execution_count": 171,
   "metadata": {},
   "outputs": [],
   "source": [
    "data['review'] = data['review'].apply(advance_clean_text)"
   ]
  },
  {
   "cell_type": "code",
   "execution_count": 172,
   "metadata": {},
   "outputs": [],
   "source": [
    "# Create bag-of-words and TF-IDF representations\n",
    "vectorizer_bow = CountVectorizer()\n",
    "vectorizer_tfidf = TfidfVectorizer()\n",
    "\n",
    "X_bow = vectorizer_bow.fit_transform(data['review'])\n",
    "X_tfidf = vectorizer_tfidf.fit_transform(data['review'])\n",
    "y = data['sentiment']\n"
   ]
  },
  {
   "cell_type": "code",
   "execution_count": 173,
   "metadata": {},
   "outputs": [],
   "source": [
    "# Split the data into training and testing sets\n",
    "X_train_bow, X_test_bow, y_train, y_test = train_test_split(X_bow, y, test_size=0.2, random_state=42)\n",
    "X_train_tfidf, X_test_tfidf, _, _ = train_test_split(X_tfidf, y, test_size=0.2, random_state=42)\n"
   ]
  },
  {
   "cell_type": "code",
   "execution_count": 174,
   "metadata": {},
   "outputs": [
    {
     "name": "stderr",
     "output_type": "stream",
     "text": [
      "C:\\Users\\S.Sivanujan\\anaconda3\\lib\\site-packages\\sklearn\\linear_model\\_logistic.py:814: ConvergenceWarning: lbfgs failed to converge (status=1):\n",
      "STOP: TOTAL NO. of ITERATIONS REACHED LIMIT.\n",
      "\n",
      "Increase the number of iterations (max_iter) or scale the data as shown in:\n",
      "    https://scikit-learn.org/stable/modules/preprocessing.html\n",
      "Please also refer to the documentation for alternative solver options:\n",
      "    https://scikit-learn.org/stable/modules/linear_model.html#logistic-regression\n",
      "  n_iter_i = _check_optimize_result(\n"
     ]
    },
    {
     "data": {
      "text/plain": [
       "LogisticRegression()"
      ]
     },
     "execution_count": 174,
     "metadata": {},
     "output_type": "execute_result"
    }
   ],
   "source": [
    "# Train and evaluate classifiers\n",
    "nb_bow = MultinomialNB()\n",
    "nb_tfidf = MultinomialNB()\n",
    "lr_bow = LogisticRegression()\n",
    "lr_tfidf = LogisticRegression()\n",
    "\n",
    "nb_bow.fit(X_train_bow, y_train)\n",
    "nb_tfidf.fit(X_train_tfidf, y_train)\n",
    "lr_bow.fit(X_train_bow, y_train)\n",
    "lr_tfidf.fit(X_train_tfidf, y_train)"
   ]
  },
  {
   "cell_type": "code",
   "execution_count": 175,
   "metadata": {},
   "outputs": [
    {
     "name": "stdout",
     "output_type": "stream",
     "text": [
      "Confusion Matrix - Naive Bayes with Bag-of-Words:\n",
      "[[873 127]\n",
      " [189 811]]\n",
      "\n",
      "Confusion Matrix - Naive Bayes with TF-IDF:\n",
      "[[888 112]\n",
      " [178 822]]\n",
      "\n",
      "Confusion Matrix - Logistic Regression with Bag-of-Words:\n",
      "[[845 155]\n",
      " [133 867]]\n",
      "\n",
      "Confusion Matrix - Logistic Regression with TF-IDF:\n",
      "[[855 145]\n",
      " [104 896]]\n"
     ]
    }
   ],
   "source": [
    "# Print the confusion matrices for the four resulting combinations\n",
    "y_pred_nb_bow = nb_bow.predict(X_test_bow)\n",
    "y_pred_nb_tfidf = nb_tfidf.predict(X_test_tfidf)\n",
    "y_pred_lr_bow = lr_bow.predict(X_test_bow)\n",
    "y_pred_lr_tfidf = lr_tfidf.predict(X_test_tfidf)\n",
    "\n",
    "confusion_nb_bow = confusion_matrix(y_test, y_pred_nb_bow)\n",
    "confusion_nb_tfidf = confusion_matrix(y_test, y_pred_nb_tfidf)\n",
    "confusion_lr_bow = confusion_matrix(y_test, y_pred_lr_bow)\n",
    "confusion_lr_tfidf = confusion_matrix(y_test, y_pred_lr_tfidf)\n",
    "\n",
    "print(\"Confusion Matrix - Naive Bayes with Bag-of-Words:\")\n",
    "print(confusion_nb_bow)\n",
    "\n",
    "print(\"\\nConfusion Matrix - Naive Bayes with TF-IDF:\")\n",
    "print(confusion_nb_tfidf)\n",
    "\n",
    "print(\"\\nConfusion Matrix - Logistic Regression with Bag-of-Words:\")\n",
    "print(confusion_lr_bow)\n",
    "\n",
    "print(\"\\nConfusion Matrix - Logistic Regression with TF-IDF:\")\n",
    "print(confusion_lr_tfidf)"
   ]
  },
  {
   "cell_type": "code",
   "execution_count": 176,
   "metadata": {},
   "outputs": [
    {
     "name": "stdout",
     "output_type": "stream",
     "text": [
      "\n",
      "Classification Report - Naive Bayes with Bag-of-Words:\n",
      "              precision    recall  f1-score   support\n",
      "\n",
      "    negative       0.82      0.87      0.85      1000\n",
      "    positive       0.86      0.81      0.84      1000\n",
      "\n",
      "    accuracy                           0.84      2000\n",
      "   macro avg       0.84      0.84      0.84      2000\n",
      "weighted avg       0.84      0.84      0.84      2000\n",
      "\n",
      "Performance Metrics - Naive Bayes with Bag-of-Words:\n",
      "Accuracy: 0.842\n",
      "Precision: 0.8433197210075529\n",
      "Recall: 0.842\n",
      "F1 Score: 0.8418480159433216\n",
      "\n",
      "Classification Report - Naive Bayes with TF-IDF:\n",
      "              precision    recall  f1-score   support\n",
      "\n",
      "    negative       0.83      0.89      0.86      1000\n",
      "    positive       0.88      0.82      0.85      1000\n",
      "\n",
      "    accuracy                           0.85      2000\n",
      "   macro avg       0.86      0.85      0.85      2000\n",
      "weighted avg       0.86      0.85      0.85      2000\n",
      "\n",
      "Performance Metrics - Naive Bayes with TF-IDF:\n",
      "Accuracy: 0.855\n",
      "Precision: 0.8565531455018058\n",
      "Recall: 0.855\n",
      "F1 Score: 0.8548419228539879\n",
      "\n",
      "Classification Report - Logistic Regression with Bag-of-Words:\n",
      "              precision    recall  f1-score   support\n",
      "\n",
      "    negative       0.86      0.84      0.85      1000\n",
      "    positive       0.85      0.87      0.86      1000\n",
      "\n",
      "    accuracy                           0.86      2000\n",
      "   macro avg       0.86      0.86      0.86      2000\n",
      "weighted avg       0.86      0.86      0.86      2000\n",
      "\n",
      "Performance Metrics - Logistic Regression with Bag-of-Words:\n",
      "Accuracy: 0.856\n",
      "Precision: 0.8561723874355188\n",
      "Recall: 0.856\n",
      "F1 Score: 0.8559825738914408\n",
      "\n",
      "Classification Report - Logistic Regression with TF-IDF:\n",
      "              precision    recall  f1-score   support\n",
      "\n",
      "    negative       0.89      0.85      0.87      1000\n",
      "    positive       0.86      0.90      0.88      1000\n",
      "\n",
      "    accuracy                           0.88      2000\n",
      "   macro avg       0.88      0.88      0.88      2000\n",
      "weighted avg       0.88      0.88      0.88      2000\n",
      "\n",
      "Performance Metrics - Logistic Regression with TF-IDF:\n",
      "Accuracy: 0.8755\n",
      "Precision: 0.876132278359923\n",
      "Recall: 0.8755\n",
      "F1 Score: 0.8754476568778028\n"
     ]
    }
   ],
   "source": [
    "\n",
    "#Classification Report\n",
    "print(\"\\nClassification Report - Naive Bayes with Bag-of-Words:\")\n",
    "print(classification_report(y_test, y_pred_nb_bow))\n",
    "\n",
    "print(\"Performance Metrics - Naive Bayes with Bag-of-Words:\")\n",
    "print(\"Accuracy:\", accuracy_score(y_test, y_pred_nb_bow))\n",
    "print(\"Precision:\", precision_score(y_test, y_pred_nb_bow, average='weighted'))\n",
    "print(\"Recall:\", recall_score(y_test, y_pred_nb_bow, average='weighted'))\n",
    "print(\"F1 Score:\", f1_score(y_test, y_pred_nb_bow, average='weighted'))\n",
    "\n",
    "print(\"\\nClassification Report - Naive Bayes with TF-IDF:\")\n",
    "print(classification_report(y_test, y_pred_nb_tfidf))\n",
    "\n",
    "print(\"Performance Metrics - Naive Bayes with TF-IDF:\")\n",
    "print(\"Accuracy:\", accuracy_score(y_test, y_pred_nb_tfidf))\n",
    "print(\"Precision:\", precision_score(y_test, y_pred_nb_tfidf, average='weighted'))\n",
    "print(\"Recall:\", recall_score(y_test, y_pred_nb_tfidf, average='weighted'))\n",
    "print(\"F1 Score:\", f1_score(y_test, y_pred_nb_tfidf, average='weighted'))\n",
    "\n",
    "print(\"\\nClassification Report - Logistic Regression with Bag-of-Words:\")\n",
    "print(classification_report(y_test, y_pred_lr_bow))\n",
    "\n",
    "print(\"Performance Metrics - Logistic Regression with Bag-of-Words:\")\n",
    "print(\"Accuracy:\", accuracy_score(y_test, y_pred_lr_bow))\n",
    "print(\"Precision:\", precision_score(y_test, y_pred_lr_bow, average='weighted'))\n",
    "print(\"Recall:\", recall_score(y_test, y_pred_lr_bow, average='weighted'))\n",
    "print(\"F1 Score:\", f1_score(y_test, y_pred_lr_bow, average='weighted'))\n",
    "\n",
    "print(\"\\nClassification Report - Logistic Regression with TF-IDF:\")\n",
    "print(classification_report(y_test, y_pred_lr_tfidf))\n",
    "\n",
    "print(\"Performance Metrics - Logistic Regression with TF-IDF:\")\n",
    "print(\"Accuracy:\", accuracy_score(y_test, y_pred_lr_tfidf))\n",
    "print(\"Precision:\", precision_score(y_test, y_pred_lr_tfidf, average='weighted'))\n",
    "print(\"Recall:\", recall_score(y_test, y_pred_lr_tfidf, average='weighted'))\n",
    "print(\"F1 Score:\", f1_score(y_test, y_pred_lr_tfidf, average='weighted'))"
   ]
  },
  {
   "cell_type": "code",
   "execution_count": null,
   "metadata": {},
   "outputs": [],
   "source": []
  },
  {
   "cell_type": "code",
   "execution_count": null,
   "metadata": {},
   "outputs": [],
   "source": []
  }
 ],
 "metadata": {
  "colab": {
   "authorship_tag": "ABX9TyOup9owANI6N6NDuMXyY/hE",
   "provenance": []
  },
  "kernelspec": {
   "display_name": "Python 3 (ipykernel)",
   "language": "python",
   "name": "python3"
  },
  "language_info": {
   "codemirror_mode": {
    "name": "ipython",
    "version": 3
   },
   "file_extension": ".py",
   "mimetype": "text/x-python",
   "name": "python",
   "nbconvert_exporter": "python",
   "pygments_lexer": "ipython3",
   "version": "3.9.13"
  }
 },
 "nbformat": 4,
 "nbformat_minor": 1
}
